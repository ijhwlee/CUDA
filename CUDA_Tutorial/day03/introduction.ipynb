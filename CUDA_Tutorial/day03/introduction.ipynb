{
 "cells": [
  {
   "cell_type": "code",
   "execution_count": 1,
   "id": "32b942ab",
   "metadata": {},
   "outputs": [],
   "source": [
    "import torch"
   ]
  },
  {
   "cell_type": "code",
   "execution_count": 5,
   "id": "357ac059",
   "metadata": {},
   "outputs": [
    {
     "name": "stdout",
     "output_type": "stream",
     "text": [
      "tensor([[0., 0., 0.],\n",
      "        [0., 0., 0.],\n",
      "        [0., 0., 0.],\n",
      "        [0., 0., 0.],\n",
      "        [0., 0., 0.]], dtype=torch.float64)\n",
      "torch.float64\n"
     ]
    }
   ],
   "source": [
    "z = torch.zeros((5,3), dtype=torch.float64)\n",
    "print(z)\n",
    "print(z.dtype)"
   ]
  },
  {
   "cell_type": "code",
   "execution_count": 6,
   "id": "eaeb8211",
   "metadata": {},
   "outputs": [
    {
     "name": "stdout",
     "output_type": "stream",
     "text": [
      "tensor([[1, 1, 1],\n",
      "        [1, 1, 1],\n",
      "        [1, 1, 1],\n",
      "        [1, 1, 1],\n",
      "        [1, 1, 1]], dtype=torch.int32)\n",
      "torch.int32\n"
     ]
    }
   ],
   "source": [
    "i = torch.ones((5,3), dtype=torch.int32)\n",
    "print(i)\n",
    "print(i.dtype)"
   ]
  },
  {
   "cell_type": "code",
   "execution_count": 7,
   "id": "7ed004ac",
   "metadata": {},
   "outputs": [
    {
     "name": "stdout",
     "output_type": "stream",
     "text": [
      "A random tensor r1:\n",
      "tensor([[0.6796, 0.5319],\n",
      "        [0.2050, 0.0128]], dtype=torch.float64)\n",
      "\n",
      "A differnt random tensor r2:\n",
      "tensor([[0.7765, 0.6283],\n",
      "        [0.4771, 0.4501]], dtype=torch.float64)\n",
      "\n",
      "Should match to r1:\n",
      "tensor([[0.6796, 0.5319],\n",
      "        [0.2050, 0.0128]], dtype=torch.float64)\n"
     ]
    }
   ],
   "source": [
    "torch.manual_seed(20250817)\n",
    "r1 = torch.rand((2,2), dtype=torch.float64)\n",
    "print('A random tensor r1:')\n",
    "print(r1)\n",
    "\n",
    "r2 = torch.rand((2,2), dtype=torch.float64)\n",
    "print('\\nA differnt random tensor r2:')\n",
    "print(r2)\n",
    "\n",
    "torch.manual_seed(20250817)\n",
    "r3 = torch.rand((2,2), dtype=torch.float64)\n",
    "print('\\nShould match to r1:')\n",
    "print(r3)\n"
   ]
  },
  {
   "cell_type": "code",
   "execution_count": 8,
   "id": "aa962926",
   "metadata": {},
   "outputs": [
    {
     "name": "stdout",
     "output_type": "stream",
     "text": [
      "tensor([[1., 1., 1.],\n",
      "        [1., 1., 1.]], dtype=torch.float64)\n",
      "tensor([[2., 2., 2.],\n",
      "        [2., 2., 2.]], dtype=torch.float64)\n",
      "tensor([[3., 3., 3.],\n",
      "        [3., 3., 3.]], dtype=torch.float64)\n"
     ]
    },
    {
     "ename": "RuntimeError",
     "evalue": "The size of tensor a (3) must match the size of tensor b (2) at non-singleton dimension 1",
     "output_type": "error",
     "traceback": [
      "\u001b[31m---------------------------------------------------------------------------\u001b[39m",
      "\u001b[31mRuntimeError\u001b[39m                              Traceback (most recent call last)",
      "\u001b[36mCell\u001b[39m\u001b[36m \u001b[39m\u001b[32mIn[8]\u001b[39m\u001b[32m, line 12\u001b[39m\n\u001b[32m     10\u001b[39m r1 = torch.rand((\u001b[32m2\u001b[39m,\u001b[32m3\u001b[39m), dtype=torch.float64)\n\u001b[32m     11\u001b[39m r2 = torch.rand((\u001b[32m3\u001b[39m,\u001b[32m2\u001b[39m), dtype=torch.float64)\n\u001b[32m---> \u001b[39m\u001b[32m12\u001b[39m r3 = \u001b[43mr1\u001b[49m\u001b[43m \u001b[49m\u001b[43m+\u001b[49m\u001b[43m \u001b[49m\u001b[43mr2\u001b[49m\n",
      "\u001b[31mRuntimeError\u001b[39m: The size of tensor a (3) must match the size of tensor b (2) at non-singleton dimension 1"
     ]
    }
   ],
   "source": [
    "ones = torch.ones((2,3), dtype=torch.float64)\n",
    "print(ones)\n",
    "\n",
    "twos = torch.ones((2,3), dtype=torch.float64) * 2\n",
    "print(twos)\n",
    "\n",
    "threes = ones + twos\n",
    "print(threes)\n",
    "\n",
    "r1 = torch.rand((2,3), dtype=torch.float64)\n",
    "r2 = torch.rand((3,2), dtype=torch.float64)\n",
    "r3 = r1 + r2"
   ]
  },
  {
   "cell_type": "code",
   "execution_count": 9,
   "id": "5640a175",
   "metadata": {},
   "outputs": [
    {
     "name": "stdout",
     "output_type": "stream",
     "text": [
      "A random matrix, r:\n",
      "tensor([[ 0.8943, -0.5938],\n",
      "        [-0.9522, -0.1208]], dtype=torch.float64)\n",
      "\n",
      "Absolute value of r:\n",
      "tensor([[0.8943, 0.5938],\n",
      "        [0.9522, 0.1208]], dtype=torch.float64)\n",
      "\n",
      "Arc sine of r:\n",
      "tensor([[ 1.1068, -0.6358],\n",
      "        [-1.2603, -0.1211]], dtype=torch.float64)\n",
      "\n",
      "Determinant of r:\n",
      "tensor(-0.6735, dtype=torch.float64)\n",
      "\n",
      "Singular value decomposition of r:\n",
      "torch.return_types.svd(\n",
      "U=tensor([[-0.7572,  0.6532],\n",
      "        [ 0.6532,  0.7572]], dtype=torch.float64),\n",
      "S=tensor([1.3510, 0.4985], dtype=torch.float64),\n",
      "V=tensor([[-0.9616, -0.2744],\n",
      "        [ 0.2744, -0.9616]], dtype=torch.float64))\n",
      "\n",
      "Average and standard deviation of r:\n",
      "(tensor(0.8009, dtype=torch.float64), tensor(-0.1931, dtype=torch.float64))\n",
      "\n",
      "Maximum value of r:\n",
      "tensor(0.8943, dtype=torch.float64)\n"
     ]
    }
   ],
   "source": [
    "r = torch.rand((2,2), dtype=torch.float64) * 2 - 1\n",
    "print('A random matrix, r:')\n",
    "print(r)\n",
    "\n",
    "print('\\nAbsolute value of r:')\n",
    "print(torch.abs(r))\n",
    "\n",
    "print('\\nArc sine of r:')\n",
    "print(torch.asin(r))\n",
    "\n",
    "print('\\nDeterminant of r:')\n",
    "print(torch.det(r))\n",
    "print('\\nSingular value decomposition of r:')\n",
    "print(torch.svd(r))\n",
    "\n",
    "print('\\nAverage and standard deviation of r:')\n",
    "print(torch.std_mean(r))\n",
    "print('\\nMaximum value of r:')\n",
    "print(torch.max(r))"
   ]
  },
  {
   "cell_type": "code",
   "execution_count": 11,
   "id": "279dd682",
   "metadata": {},
   "outputs": [
    {
     "name": "stdout",
     "output_type": "stream",
     "text": [
      "A: tensor([[1., 2.],\n",
      "        [3., 4.],\n",
      "        [5., 6.]])\n",
      "U: tensor([[-0.2298,  0.8835],\n",
      "        [-0.5247,  0.2408],\n",
      "        [-0.8196, -0.4019]])\n",
      "S: tensor([9.5255, 0.5143])\n",
      "V: tensor([[-0.6196, -0.7849],\n",
      "        [-0.7849,  0.6196]])\n"
     ]
    }
   ],
   "source": [
    "\n",
    "A = torch.tensor([[1.0, 2.0], [3.0, 4.0], [5.0, 6.0]])\n",
    "U, S, V = torch.linalg.svd(A, full_matrices=False)\n",
    "\n",
    "print(\"A:\", A)\n",
    "print(\"U:\", U)\n",
    "print(\"S:\", S)\n",
    "print(\"V:\", V)\n",
    "\n"
   ]
  },
  {
   "cell_type": "code",
   "execution_count": null,
   "id": "55e39270",
   "metadata": {},
   "outputs": [],
   "source": []
  }
 ],
 "metadata": {
  "kernelspec": {
   "display_name": "torch",
   "language": "python",
   "name": "python3"
  },
  "language_info": {
   "codemirror_mode": {
    "name": "ipython",
    "version": 3
   },
   "file_extension": ".py",
   "mimetype": "text/x-python",
   "name": "python",
   "nbconvert_exporter": "python",
   "pygments_lexer": "ipython3",
   "version": "3.12.11"
  }
 },
 "nbformat": 4,
 "nbformat_minor": 5
}
